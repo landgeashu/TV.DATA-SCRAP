{
 "cells": [
  {
   "cell_type": "code",
   "execution_count": 5,
   "metadata": {},
   "outputs": [],
   "source": [
    "from bs4 import BeautifulSoup\n",
    "import requests\n",
    "import pandas as pd\n",
    "import time\n",
    "from selenium import webdriver\n",
    "from selenium.webdriver.support.ui import WebDriverWait\n",
    "from selenium.webdriver.support import expected_conditions as EC\n",
    "from selenium.webdriver.common.by import By"
   ]
  },
  {
   "cell_type": "code",
   "execution_count": 6,
   "metadata": {},
   "outputs": [],
   "source": [
    "driver = webdriver.Chrome()\n",
    "page_url = 'https://www.flipkart.com/search?q=tv&otracker=search&otracker1=search&marketplace=FLIPKART&as-show=on&as=off'\n",
    "driver.get(page_url)\n",
    "time.sleep(3)"
   ]
  },
  {
   "cell_type": "code",
   "execution_count": 7,
   "metadata": {},
   "outputs": [],
   "source": [
    "soup = BeautifulSoup(driver.page_source,'html.parser')"
   ]
  },
  {
   "cell_type": "code",
   "execution_count": 8,
   "metadata": {},
   "outputs": [],
   "source": [
    "div_ = soup.findAll('div', {'class':'tUxRFH'})[0]"
   ]
  },
  {
   "cell_type": "code",
   "execution_count": 9,
   "metadata": {},
   "outputs": [],
   "source": [
    "name_element = div_.find('div',{'class':'KzDlHZ'})\n",
    "name_ = name_element.text if name_element else None"
   ]
  },
  {
   "cell_type": "code",
   "execution_count": 10,
   "metadata": {},
   "outputs": [
    {
     "data": {
      "text/plain": [
       "'SAMSUNG Crystal Vision 4K iSmart with Voice Assistant 108 cm (43 inch) Ultra HD (4K) LED Smart Tizen T...'"
      ]
     },
     "execution_count": 10,
     "metadata": {},
     "output_type": "execute_result"
    }
   ],
   "source": [
    "name_"
   ]
  },
  {
   "cell_type": "code",
   "execution_count": 11,
   "metadata": {},
   "outputs": [],
   "source": [
    "rating_element = div_.find('div',{'class':'XQDdHH'})\n",
    "rating_ = rating_element.text if rating_element else None"
   ]
  },
  {
   "cell_type": "code",
   "execution_count": 12,
   "metadata": {},
   "outputs": [
    {
     "data": {
      "text/plain": [
       "'4.3'"
      ]
     },
     "execution_count": 12,
     "metadata": {},
     "output_type": "execute_result"
    }
   ],
   "source": [
    "rating_"
   ]
  },
  {
   "cell_type": "code",
   "execution_count": 13,
   "metadata": {},
   "outputs": [],
   "source": [
    "price_element = div_.find('div',{'class':'Nx9bqj _4b5DiR'})\n",
    "price_ = price_element.text if price_element else None"
   ]
  },
  {
   "cell_type": "code",
   "execution_count": 14,
   "metadata": {},
   "outputs": [
    {
     "data": {
      "text/plain": [
       "'₹29,990'"
      ]
     },
     "execution_count": 14,
     "metadata": {},
     "output_type": "execute_result"
    }
   ],
   "source": [
    "price_"
   ]
  },
  {
   "cell_type": "code",
   "execution_count": 15,
   "metadata": {},
   "outputs": [],
   "source": [
    "original_price_element = div_.find('div',{'class':'yRaY8j ZYYwLA'})\n",
    "original_price_ = original_price_element.text if original_price_element else None"
   ]
  },
  {
   "cell_type": "code",
   "execution_count": 16,
   "metadata": {},
   "outputs": [
    {
     "data": {
      "text/plain": [
       "'₹54,900'"
      ]
     },
     "execution_count": 16,
     "metadata": {},
     "output_type": "execute_result"
    }
   ],
   "source": [
    "original_price_\n"
   ]
  },
  {
   "cell_type": "code",
   "execution_count": 17,
   "metadata": {},
   "outputs": [],
   "source": [
    "discount_element = div_.find('div',{'class':'UkUFwK'})\n",
    "discount_ = discount_element.text[:3] if discount_element else None"
   ]
  },
  {
   "cell_type": "code",
   "execution_count": 18,
   "metadata": {},
   "outputs": [
    {
     "data": {
      "text/plain": [
       "'45%'"
      ]
     },
     "execution_count": 18,
     "metadata": {},
     "output_type": "execute_result"
    }
   ],
   "source": [
    "discount_ "
   ]
  },
  {
   "cell_type": "code",
   "execution_count": 19,
   "metadata": {},
   "outputs": [],
   "source": [
    "features_element = div_.find('ul',{'class':'G4BRas'})\n",
    "features_ = features_element.text if features_element else None"
   ]
  },
  {
   "cell_type": "code",
   "execution_count": 20,
   "metadata": {},
   "outputs": [
    {
     "data": {
      "text/plain": [
       "'Operating System: TizenUltra HD (4K) 3840 x 2160 PixelsLaunch Year: 20231 Year Comprehensive Warranty on Product and 1 Year Additional Warranty on Panel'"
      ]
     },
     "execution_count": 20,
     "metadata": {},
     "output_type": "execute_result"
    }
   ],
   "source": [
    "features_"
   ]
  },
  {
   "cell_type": "code",
   "execution_count": 21,
   "metadata": {},
   "outputs": [
    {
     "data": {
      "text/plain": [
       "['SAMSUNG Crystal Vision 4K iSmart with Voice Assistant 108 cm (43 inch) Ultra HD (4K) LED Smart Tizen T...',\n",
       " '4.3',\n",
       " '₹29,990',\n",
       " '₹54,900',\n",
       " '45%',\n",
       " 'Operating System: TizenUltra HD (4K) 3840 x 2160 PixelsLaunch Year: 20231 Year Comprehensive Warranty on Product and 1 Year Additional Warranty on Panel']"
      ]
     },
     "execution_count": 21,
     "metadata": {},
     "output_type": "execute_result"
    }
   ],
   "source": [
    "name_element = div_.find('div',{'class':'KzDlHZ'})\n",
    "name_ = name_element.text if name_element else None\n",
    "\n",
    "rating_element = div_.find('div',{'class':'XQDdHH'})\n",
    "rating_ = rating_element.text if rating_element else None\n",
    "\n",
    "price_element = div_.find('div',{'class':'Nx9bqj _4b5DiR'})\n",
    "price_ = price_element.text if price_element else None\n",
    "\n",
    "original_price_element = div_.find('div',{'class':'yRaY8j ZYYwLA'})\n",
    "original_price_ = original_price_element.text if original_price_element else None\n",
    "\n",
    "discount_element = div_.find('div',{'class':'UkUFwK'})\n",
    "discount_ = discount_element.text[:3] if discount_element else None\n",
    "\n",
    "features_element = div_.find('ul',{'class':'G4BRas'})\n",
    "features_ = features_element.text if features_element else None\n",
    "\n",
    "[name_,rating_,price_,original_price_,discount_,features_]"
   ]
  },
  {
   "cell_type": "code",
   "execution_count": 22,
   "metadata": {},
   "outputs": [],
   "source": [
    "def get_div_info(div_):\n",
    "    name_element = div_.find('div',{'class':'KzDlHZ'})\n",
    "    name_ = name_element.text if name_element else None\n",
    "    name = name_.split('-')[0].strip() if '-' in name_ else name_\n",
    "\n",
    "    rating_element = div_.find('div',{'class':'XQDdHH'})\n",
    "    rating_ = rating_element.text if rating_element else None\n",
    "\n",
    "    price_element = div_.find('div',{'class':'Nx9bqj _4b5DiR'})\n",
    "    price_ = price_element.text if price_element else None\n",
    "\n",
    "    original_price_element = div_.find('div',{'class':'yRaY8j ZYYwLA'})\n",
    "    original_price_ = original_price_element.text if original_price_element else None\n",
    "\n",
    "    discount_element = div_.find('div',{'class':'UkUFwK'})\n",
    "    discount_ = discount_element.text[:3] if discount_element else None\n",
    "\n",
    "    features_element = div_.find('ul',{'class':'G4BRas'})\n",
    "    features_ = features_element.text if features_element else None\n",
    "\n",
    "    return[name_,rating_,price_,original_price_,discount_,features_]\n"
   ]
  },
  {
   "cell_type": "code",
   "execution_count": 23,
   "metadata": {},
   "outputs": [],
   "source": [
    "div_info_list = []\n",
    "for div_ in soup.findAll('div', {'class':'tUxRFH'}):\n",
    "    div_info_list.append(get_div_info(div_))"
   ]
  },
  {
   "cell_type": "code",
   "execution_count": 24,
   "metadata": {},
   "outputs": [
    {
     "data": {
      "text/plain": [
       "[['SAMSUNG Crystal Vision 4K iSmart with Voice Assistant 108 cm (43 inch) Ultra HD (4K) LED Smart Tizen T...',\n",
       "  '4.3',\n",
       "  '₹29,990',\n",
       "  '₹54,900',\n",
       "  '45%',\n",
       "  'Operating System: TizenUltra HD (4K) 3840 x 2160 PixelsLaunch Year: 20231 Year Comprehensive Warranty on Product and 1 Year Additional Warranty on Panel'],\n",
       " ['SAMSUNG Crystal 4K Vivid 108 cm (43 inch) Ultra HD (4K) LED Smart Tizen TV 2024 Edition',\n",
       "  '4.3',\n",
       "  '₹30,490',\n",
       "  '₹44,900',\n",
       "  '32%',\n",
       "  'Operating System: TizenUltra HD (4K) 3840 x 2160 PixelsLaunch Year: 20242 Year Warranty (1 Year Standard Warranty + 1 Year additional warranty on Panel)'],\n",
       " ['SAMSUNG 80 cm (32 Inch) HD Ready LED Smart Tizen TV with Bezel-free Design',\n",
       "  '4.4',\n",
       "  '₹13,490',\n",
       "  '₹18,900',\n",
       "  '28%',\n",
       "  'Operating System: TizenHD Ready 1366 x 768 PixelsLaunch Year: 20221 Year Comprehensive Warranty on Product and 1 Year Additional on Panel'],\n",
       " ['SAMSUNG 108 cm (43 inch) Full HD LED Smart Tizen TV 2023 Edition',\n",
       "  '4.4',\n",
       "  '₹24,499',\n",
       "  '₹37,900',\n",
       "  '35%',\n",
       "  'Operating System: TizenFull HD 1920 x 1080 PixelsLaunch Year: 20231 Year Comprehensive Warranty on Product and 1 Year Additional Warranty on Panel'],\n",
       " ['LG 80 cm (32 inch) HD Ready LED Smart WebOS TV 2023 Edition with a5 AI Processor Gen5, Refresh Rate: 6...',\n",
       "  '4.3',\n",
       "  '₹15,490',\n",
       "  '₹19,990',\n",
       "  '22%',\n",
       "  'Operating System: WebOSHD Ready 1366 x 768 PixelsLaunch Year: 20231 Year Product Warranty Applicable'],\n",
       " ['Mi A series 80 cm (32 inch) HD Ready LED Smart Google TV 2023 Edition with HD |Dolby Audio | DTS:HD | ...',\n",
       "  '4.3',\n",
       "  '₹11,999',\n",
       "  '₹24,999',\n",
       "  '52%',\n",
       "  'Operating System: Google TVHD Ready 1366 x 768 PixelsLaunch Year: 20231 Year Warranty on Product and 2 Years Warranty on Panel'],\n",
       " ['Mi A series 108 cm (43 inch) Full HD LED Smart Google TV 2023 Edition with FHD | Dolby Audio | DTS : H...',\n",
       "  '4.2',\n",
       "  '₹22,999',\n",
       "  '₹35,999',\n",
       "  '36%',\n",
       "  'Operating System: Google TVFull HD 1920 x 1080 PixelsLaunch Year: 20231 Year Warranty on Product and 2 Years Warranty on Panel'],\n",
       " ['Hyundai 109 cm (43 inch) Full HD LED Smart Android Based TV',\n",
       "  '3.6',\n",
       "  '₹17,990',\n",
       "  '₹46,490',\n",
       "  '61%',\n",
       "  'Operating System: Android BasedFull HD 1920 x 1080 PixelsLaunch Year: 20221 year warranty on product and 6 months on remote'],\n",
       " ['LG UQ7550 139 cm (55 inch) Ultra HD (4K) LED Smart WebOS TV 2023 Edition with a5 Gen5 AI Processor 4K,...',\n",
       "  '4.4',\n",
       "  '₹44,990',\n",
       "  '₹71,990',\n",
       "  '37%',\n",
       "  'Operating System: WebOSUltra HD (4K) 3840 x 2160 PixelsLaunch Year: 20231 Year Product Warranty Applicable'],\n",
       " ['LG 80 cm (32 inch) HD Ready LED Smart WebOS TV',\n",
       "  '4.3',\n",
       "  '₹13,990',\n",
       "  '₹24,990',\n",
       "  '44%',\n",
       "  'Operating System: WebOSHD Ready 1366 x 768 PixelsLaunch Year: 20201 Year Product Warranty Applicable'],\n",
       " ['SAMSUNG Crystal 4K Vision Pro (2024 Edition) 108 cm (43 inch) Ultra HD (4K) LED Smart Tizen TV',\n",
       "  '4.3',\n",
       "  '₹31,990',\n",
       "  '₹46,900',\n",
       "  '31%',\n",
       "  'Operating System: TizenUltra HD (4K) 3840 x 2160 PixelsLaunch Year: 20242 Year Warranty (1 Year Standard Warranty + 1 Year additional warranty on Panel)'],\n",
       " ['SAMSUNG Crystal 4K Vision Pro (2024 Edition) 138 cm (55 inch) Ultra HD (4K) LED Smart Tizen TV',\n",
       "  '4.3',\n",
       "  '₹45,990',\n",
       "  '₹66,900',\n",
       "  '31%',\n",
       "  'Operating System: TizenUltra HD (4K) 3840 x 2160 PixelsLaunch Year: 20242 Year Warranty (1 Year Standard Warranty + 1 Year additional warranty on Panel)'],\n",
       " ['LG UQ7550 108 cm (43 inch) Ultra HD (4K) LED Smart WebOS TV 2023 Edition with a5 Gen5 AI Processor 4K,...',\n",
       "  '4.4',\n",
       "  '₹31,990',\n",
       "  '₹47,990',\n",
       "  '33%',\n",
       "  'Operating System: WebOSUltra HD (4K) 3840 x 2160 PixelsLaunch Year: 20231 Year Product Warranty Applicable'],\n",
       " ['REDMI 80 cm (32 inch) HD Ready LED Smart FireTv OS 7 TV 2023 Edition with Dolby Audio & DTS: Virtual X',\n",
       "  '4.2',\n",
       "  '₹11,490',\n",
       "  '₹24,999',\n",
       "  '54%',\n",
       "  'Operating System: FireTv OS 7HD Ready 1366 x 768 PixelsLaunch Year: 20231 Year Warranty'],\n",
       " ['Mi X Series 138 cm (55 inch) Ultra HD (4K) LED Smart Google TV 2023 Edition with 4K Dolby Vision | HDR...',\n",
       "  '4.3',\n",
       "  '₹37,999',\n",
       "  '₹54,999',\n",
       "  '30%',\n",
       "  'Operating System: Google TVUltra HD (4K) 3840 x 2160 PixelsLaunch Year: 20231 Year Warranty on Product and 2 Years Warranty on Panel'],\n",
       " ['Mi A Series 80 cm (32 inch) HD Ready LED Smart Google TV 2024 Edition',\n",
       "  '4.3',\n",
       "  '₹12,999',\n",
       "  '₹24,999',\n",
       "  '48%',\n",
       "  'Operating System: Google TVHD Ready 1366 x 768 PixelsLaunch Year: 20241 Year Warranty on Product and 1 Year Additional Warranty on Panel'],\n",
       " ['Coocaa Frameless 80 cm (32 inch) HD Ready LED Smart Google TV with HDR 10 Dolby Audio and Eye care tec...',\n",
       "  '4.2',\n",
       "  '₹10,499',\n",
       "  '₹27,990',\n",
       "  '62%',\n",
       "  'Operating System: Google TVHD Ready 1366 x 768 PixelsLaunch Year: 20221 Year Domestic Warranty'],\n",
       " ['SAMSUNG Crystal 4K Vivid 138 cm (55 inch) Ultra HD (4K) LED Smart Tizen TV 2024 Edition',\n",
       "  '4.3',\n",
       "  '₹43,990',\n",
       "  '₹64,900',\n",
       "  '32%',\n",
       "  'Operating System: TizenUltra HD (4K) 3840 x 2160 PixelsLaunch Year: 20242 Year Warranty (1 Year Standard Warranty + 1 Year additional warranty on Panel)'],\n",
       " ['Thomson Phoenix 108 cm (43 inch) QLED Ultra HD (4K) Smart Google TV Dolby Vision & Atmos',\n",
       "  '4.5',\n",
       "  '₹21,999',\n",
       "  '₹31,999',\n",
       "  '31%',\n",
       "  'Operating System: Google TVUltra HD (4K) 3840 × 2160 PixelsLaunch Year: 20231 Year Warranty on Product and 6 Months Warranty on Accessories'],\n",
       " ['iFFALCON by TCL S53 101 cm (40 inch) Full HD LED Smart Android TV with Bezel-Less design & 24W Speaker',\n",
       "  '4.2',\n",
       "  '₹13,999',\n",
       "  '₹38,990',\n",
       "  '64%',\n",
       "  'Operating System: AndroidFull HD 1920 x 1080 PixelsLaunch Year: 20231 Year Warranty'],\n",
       " ['XElectron 60 cm (24 inch) HD Ready LED TV 2023 Edition',\n",
       "  '4.2',\n",
       "  '₹5,999',\n",
       "  '₹13,999',\n",
       "  '57%',\n",
       "  'HD Ready 1366 x 768 PixelsLaunch Year: 20231 Year warranty from the date of purchase. For more help & support call us at: 8527312304 or mail us at: customercare@xelectron.com'],\n",
       " ['Haier 165 cm (65 inch) Ultra HD (4K) LED Smart Google TV',\n",
       "  '4.1',\n",
       "  '₹57,990',\n",
       "  '₹80,990',\n",
       "  '28%',\n",
       "  'Operating System: Google TVUltra HD (4K) 3840 × 2160 PixelsLaunch Year: 20232 Years Comprehensive Warranty on Product'],\n",
       " ['Acer Advanced I Series 102 cm (40 inch) Full HD LED Smart Google TV 2023 Edition with 1.5GB RAM, 16GB ...',\n",
       "  '4.3',\n",
       "  '₹16,999',\n",
       "  '₹29,999',\n",
       "  '43%',\n",
       "  'Operating System: Google TVFull HD 1080 x 1920 PixelsLaunch Year: 20231 Year Comprehensive Warranty from the Date of Purchase'],\n",
       " ['MOTOROLA EnvisionX 140 cm (55 inch) Ultra HD (4K) LED Smart Google TV with Inbuilt Box Speakers',\n",
       "  '4.3',\n",
       "  '₹32,999',\n",
       "  '₹56,790',\n",
       "  '41%',\n",
       "  'Operating System: Google TVUltra HD (4K) 3840 x 2160 PixelsLaunch Year: 20231 Year Warranty']]"
      ]
     },
     "execution_count": 24,
     "metadata": {},
     "output_type": "execute_result"
    }
   ],
   "source": [
    "div_info_list"
   ]
  },
  {
   "cell_type": "code",
   "execution_count": 25,
   "metadata": {},
   "outputs": [],
   "source": [
    "df = pd.DataFrame(div_info_list, columns=['Name', 'Rating', 'Current Price', 'Original Price', 'Discount', 'Features'])"
   ]
  },
  {
   "cell_type": "code",
   "execution_count": 26,
   "metadata": {},
   "outputs": [
    {
     "data": {
      "text/html": [
       "<div>\n",
       "<style scoped>\n",
       "    .dataframe tbody tr th:only-of-type {\n",
       "        vertical-align: middle;\n",
       "    }\n",
       "\n",
       "    .dataframe tbody tr th {\n",
       "        vertical-align: top;\n",
       "    }\n",
       "\n",
       "    .dataframe thead th {\n",
       "        text-align: right;\n",
       "    }\n",
       "</style>\n",
       "<table border=\"1\" class=\"dataframe\">\n",
       "  <thead>\n",
       "    <tr style=\"text-align: right;\">\n",
       "      <th></th>\n",
       "      <th>Name</th>\n",
       "      <th>Rating</th>\n",
       "      <th>Current Price</th>\n",
       "      <th>Original Price</th>\n",
       "      <th>Discount</th>\n",
       "      <th>Features</th>\n",
       "    </tr>\n",
       "  </thead>\n",
       "  <tbody>\n",
       "    <tr>\n",
       "      <th>0</th>\n",
       "      <td>SAMSUNG Crystal Vision 4K iSmart with Voice As...</td>\n",
       "      <td>4.3</td>\n",
       "      <td>₹29,990</td>\n",
       "      <td>₹54,900</td>\n",
       "      <td>45%</td>\n",
       "      <td>Operating System: TizenUltra HD (4K) 3840 x 21...</td>\n",
       "    </tr>\n",
       "    <tr>\n",
       "      <th>1</th>\n",
       "      <td>SAMSUNG Crystal 4K Vivid 108 cm (43 inch) Ultr...</td>\n",
       "      <td>4.3</td>\n",
       "      <td>₹30,490</td>\n",
       "      <td>₹44,900</td>\n",
       "      <td>32%</td>\n",
       "      <td>Operating System: TizenUltra HD (4K) 3840 x 21...</td>\n",
       "    </tr>\n",
       "    <tr>\n",
       "      <th>2</th>\n",
       "      <td>SAMSUNG 80 cm (32 Inch) HD Ready LED Smart Tiz...</td>\n",
       "      <td>4.4</td>\n",
       "      <td>₹13,490</td>\n",
       "      <td>₹18,900</td>\n",
       "      <td>28%</td>\n",
       "      <td>Operating System: TizenHD Ready 1366 x 768 Pix...</td>\n",
       "    </tr>\n",
       "    <tr>\n",
       "      <th>3</th>\n",
       "      <td>SAMSUNG 108 cm (43 inch) Full HD LED Smart Tiz...</td>\n",
       "      <td>4.4</td>\n",
       "      <td>₹24,499</td>\n",
       "      <td>₹37,900</td>\n",
       "      <td>35%</td>\n",
       "      <td>Operating System: TizenFull HD 1920 x 1080 Pix...</td>\n",
       "    </tr>\n",
       "    <tr>\n",
       "      <th>4</th>\n",
       "      <td>LG 80 cm (32 inch) HD Ready LED Smart WebOS TV...</td>\n",
       "      <td>4.3</td>\n",
       "      <td>₹15,490</td>\n",
       "      <td>₹19,990</td>\n",
       "      <td>22%</td>\n",
       "      <td>Operating System: WebOSHD Ready 1366 x 768 Pix...</td>\n",
       "    </tr>\n",
       "    <tr>\n",
       "      <th>5</th>\n",
       "      <td>Mi A series 80 cm (32 inch) HD Ready LED Smart...</td>\n",
       "      <td>4.3</td>\n",
       "      <td>₹11,999</td>\n",
       "      <td>₹24,999</td>\n",
       "      <td>52%</td>\n",
       "      <td>Operating System: Google TVHD Ready 1366 x 768...</td>\n",
       "    </tr>\n",
       "    <tr>\n",
       "      <th>6</th>\n",
       "      <td>Mi A series 108 cm (43 inch) Full HD LED Smart...</td>\n",
       "      <td>4.2</td>\n",
       "      <td>₹22,999</td>\n",
       "      <td>₹35,999</td>\n",
       "      <td>36%</td>\n",
       "      <td>Operating System: Google TVFull HD 1920 x 1080...</td>\n",
       "    </tr>\n",
       "    <tr>\n",
       "      <th>7</th>\n",
       "      <td>Hyundai 109 cm (43 inch) Full HD LED Smart And...</td>\n",
       "      <td>3.6</td>\n",
       "      <td>₹17,990</td>\n",
       "      <td>₹46,490</td>\n",
       "      <td>61%</td>\n",
       "      <td>Operating System: Android BasedFull HD 1920 x ...</td>\n",
       "    </tr>\n",
       "    <tr>\n",
       "      <th>8</th>\n",
       "      <td>LG UQ7550 139 cm (55 inch) Ultra HD (4K) LED S...</td>\n",
       "      <td>4.4</td>\n",
       "      <td>₹44,990</td>\n",
       "      <td>₹71,990</td>\n",
       "      <td>37%</td>\n",
       "      <td>Operating System: WebOSUltra HD (4K) 3840 x 21...</td>\n",
       "    </tr>\n",
       "    <tr>\n",
       "      <th>9</th>\n",
       "      <td>LG 80 cm (32 inch) HD Ready LED Smart WebOS TV</td>\n",
       "      <td>4.3</td>\n",
       "      <td>₹13,990</td>\n",
       "      <td>₹24,990</td>\n",
       "      <td>44%</td>\n",
       "      <td>Operating System: WebOSHD Ready 1366 x 768 Pix...</td>\n",
       "    </tr>\n",
       "    <tr>\n",
       "      <th>10</th>\n",
       "      <td>SAMSUNG Crystal 4K Vision Pro (2024 Edition) 1...</td>\n",
       "      <td>4.3</td>\n",
       "      <td>₹31,990</td>\n",
       "      <td>₹46,900</td>\n",
       "      <td>31%</td>\n",
       "      <td>Operating System: TizenUltra HD (4K) 3840 x 21...</td>\n",
       "    </tr>\n",
       "    <tr>\n",
       "      <th>11</th>\n",
       "      <td>SAMSUNG Crystal 4K Vision Pro (2024 Edition) 1...</td>\n",
       "      <td>4.3</td>\n",
       "      <td>₹45,990</td>\n",
       "      <td>₹66,900</td>\n",
       "      <td>31%</td>\n",
       "      <td>Operating System: TizenUltra HD (4K) 3840 x 21...</td>\n",
       "    </tr>\n",
       "    <tr>\n",
       "      <th>12</th>\n",
       "      <td>LG UQ7550 108 cm (43 inch) Ultra HD (4K) LED S...</td>\n",
       "      <td>4.4</td>\n",
       "      <td>₹31,990</td>\n",
       "      <td>₹47,990</td>\n",
       "      <td>33%</td>\n",
       "      <td>Operating System: WebOSUltra HD (4K) 3840 x 21...</td>\n",
       "    </tr>\n",
       "    <tr>\n",
       "      <th>13</th>\n",
       "      <td>REDMI 80 cm (32 inch) HD Ready LED Smart FireT...</td>\n",
       "      <td>4.2</td>\n",
       "      <td>₹11,490</td>\n",
       "      <td>₹24,999</td>\n",
       "      <td>54%</td>\n",
       "      <td>Operating System: FireTv OS 7HD Ready 1366 x 7...</td>\n",
       "    </tr>\n",
       "    <tr>\n",
       "      <th>14</th>\n",
       "      <td>Mi X Series 138 cm (55 inch) Ultra HD (4K) LED...</td>\n",
       "      <td>4.3</td>\n",
       "      <td>₹37,999</td>\n",
       "      <td>₹54,999</td>\n",
       "      <td>30%</td>\n",
       "      <td>Operating System: Google TVUltra HD (4K) 3840 ...</td>\n",
       "    </tr>\n",
       "    <tr>\n",
       "      <th>15</th>\n",
       "      <td>Mi A Series 80 cm (32 inch) HD Ready LED Smart...</td>\n",
       "      <td>4.3</td>\n",
       "      <td>₹12,999</td>\n",
       "      <td>₹24,999</td>\n",
       "      <td>48%</td>\n",
       "      <td>Operating System: Google TVHD Ready 1366 x 768...</td>\n",
       "    </tr>\n",
       "    <tr>\n",
       "      <th>16</th>\n",
       "      <td>Coocaa Frameless 80 cm (32 inch) HD Ready LED ...</td>\n",
       "      <td>4.2</td>\n",
       "      <td>₹10,499</td>\n",
       "      <td>₹27,990</td>\n",
       "      <td>62%</td>\n",
       "      <td>Operating System: Google TVHD Ready 1366 x 768...</td>\n",
       "    </tr>\n",
       "    <tr>\n",
       "      <th>17</th>\n",
       "      <td>SAMSUNG Crystal 4K Vivid 138 cm (55 inch) Ultr...</td>\n",
       "      <td>4.3</td>\n",
       "      <td>₹43,990</td>\n",
       "      <td>₹64,900</td>\n",
       "      <td>32%</td>\n",
       "      <td>Operating System: TizenUltra HD (4K) 3840 x 21...</td>\n",
       "    </tr>\n",
       "    <tr>\n",
       "      <th>18</th>\n",
       "      <td>Thomson Phoenix 108 cm (43 inch) QLED Ultra HD...</td>\n",
       "      <td>4.5</td>\n",
       "      <td>₹21,999</td>\n",
       "      <td>₹31,999</td>\n",
       "      <td>31%</td>\n",
       "      <td>Operating System: Google TVUltra HD (4K) 3840 ...</td>\n",
       "    </tr>\n",
       "    <tr>\n",
       "      <th>19</th>\n",
       "      <td>iFFALCON by TCL S53 101 cm (40 inch) Full HD L...</td>\n",
       "      <td>4.2</td>\n",
       "      <td>₹13,999</td>\n",
       "      <td>₹38,990</td>\n",
       "      <td>64%</td>\n",
       "      <td>Operating System: AndroidFull HD 1920 x 1080 P...</td>\n",
       "    </tr>\n",
       "    <tr>\n",
       "      <th>20</th>\n",
       "      <td>XElectron 60 cm (24 inch) HD Ready LED TV 2023...</td>\n",
       "      <td>4.2</td>\n",
       "      <td>₹5,999</td>\n",
       "      <td>₹13,999</td>\n",
       "      <td>57%</td>\n",
       "      <td>HD Ready 1366 x 768 PixelsLaunch Year: 20231 Y...</td>\n",
       "    </tr>\n",
       "    <tr>\n",
       "      <th>21</th>\n",
       "      <td>Haier 165 cm (65 inch) Ultra HD (4K) LED Smart...</td>\n",
       "      <td>4.1</td>\n",
       "      <td>₹57,990</td>\n",
       "      <td>₹80,990</td>\n",
       "      <td>28%</td>\n",
       "      <td>Operating System: Google TVUltra HD (4K) 3840 ...</td>\n",
       "    </tr>\n",
       "    <tr>\n",
       "      <th>22</th>\n",
       "      <td>Acer Advanced I Series 102 cm (40 inch) Full H...</td>\n",
       "      <td>4.3</td>\n",
       "      <td>₹16,999</td>\n",
       "      <td>₹29,999</td>\n",
       "      <td>43%</td>\n",
       "      <td>Operating System: Google TVFull HD 1080 x 1920...</td>\n",
       "    </tr>\n",
       "    <tr>\n",
       "      <th>23</th>\n",
       "      <td>MOTOROLA EnvisionX 140 cm (55 inch) Ultra HD (...</td>\n",
       "      <td>4.3</td>\n",
       "      <td>₹32,999</td>\n",
       "      <td>₹56,790</td>\n",
       "      <td>41%</td>\n",
       "      <td>Operating System: Google TVUltra HD (4K) 3840 ...</td>\n",
       "    </tr>\n",
       "  </tbody>\n",
       "</table>\n",
       "</div>"
      ],
      "text/plain": [
       "                                                 Name Rating Current Price  \\\n",
       "0   SAMSUNG Crystal Vision 4K iSmart with Voice As...    4.3       ₹29,990   \n",
       "1   SAMSUNG Crystal 4K Vivid 108 cm (43 inch) Ultr...    4.3       ₹30,490   \n",
       "2   SAMSUNG 80 cm (32 Inch) HD Ready LED Smart Tiz...    4.4       ₹13,490   \n",
       "3   SAMSUNG 108 cm (43 inch) Full HD LED Smart Tiz...    4.4       ₹24,499   \n",
       "4   LG 80 cm (32 inch) HD Ready LED Smart WebOS TV...    4.3       ₹15,490   \n",
       "5   Mi A series 80 cm (32 inch) HD Ready LED Smart...    4.3       ₹11,999   \n",
       "6   Mi A series 108 cm (43 inch) Full HD LED Smart...    4.2       ₹22,999   \n",
       "7   Hyundai 109 cm (43 inch) Full HD LED Smart And...    3.6       ₹17,990   \n",
       "8   LG UQ7550 139 cm (55 inch) Ultra HD (4K) LED S...    4.4       ₹44,990   \n",
       "9      LG 80 cm (32 inch) HD Ready LED Smart WebOS TV    4.3       ₹13,990   \n",
       "10  SAMSUNG Crystal 4K Vision Pro (2024 Edition) 1...    4.3       ₹31,990   \n",
       "11  SAMSUNG Crystal 4K Vision Pro (2024 Edition) 1...    4.3       ₹45,990   \n",
       "12  LG UQ7550 108 cm (43 inch) Ultra HD (4K) LED S...    4.4       ₹31,990   \n",
       "13  REDMI 80 cm (32 inch) HD Ready LED Smart FireT...    4.2       ₹11,490   \n",
       "14  Mi X Series 138 cm (55 inch) Ultra HD (4K) LED...    4.3       ₹37,999   \n",
       "15  Mi A Series 80 cm (32 inch) HD Ready LED Smart...    4.3       ₹12,999   \n",
       "16  Coocaa Frameless 80 cm (32 inch) HD Ready LED ...    4.2       ₹10,499   \n",
       "17  SAMSUNG Crystal 4K Vivid 138 cm (55 inch) Ultr...    4.3       ₹43,990   \n",
       "18  Thomson Phoenix 108 cm (43 inch) QLED Ultra HD...    4.5       ₹21,999   \n",
       "19  iFFALCON by TCL S53 101 cm (40 inch) Full HD L...    4.2       ₹13,999   \n",
       "20  XElectron 60 cm (24 inch) HD Ready LED TV 2023...    4.2        ₹5,999   \n",
       "21  Haier 165 cm (65 inch) Ultra HD (4K) LED Smart...    4.1       ₹57,990   \n",
       "22  Acer Advanced I Series 102 cm (40 inch) Full H...    4.3       ₹16,999   \n",
       "23  MOTOROLA EnvisionX 140 cm (55 inch) Ultra HD (...    4.3       ₹32,999   \n",
       "\n",
       "   Original Price Discount                                           Features  \n",
       "0         ₹54,900      45%  Operating System: TizenUltra HD (4K) 3840 x 21...  \n",
       "1         ₹44,900      32%  Operating System: TizenUltra HD (4K) 3840 x 21...  \n",
       "2         ₹18,900      28%  Operating System: TizenHD Ready 1366 x 768 Pix...  \n",
       "3         ₹37,900      35%  Operating System: TizenFull HD 1920 x 1080 Pix...  \n",
       "4         ₹19,990      22%  Operating System: WebOSHD Ready 1366 x 768 Pix...  \n",
       "5         ₹24,999      52%  Operating System: Google TVHD Ready 1366 x 768...  \n",
       "6         ₹35,999      36%  Operating System: Google TVFull HD 1920 x 1080...  \n",
       "7         ₹46,490      61%  Operating System: Android BasedFull HD 1920 x ...  \n",
       "8         ₹71,990      37%  Operating System: WebOSUltra HD (4K) 3840 x 21...  \n",
       "9         ₹24,990      44%  Operating System: WebOSHD Ready 1366 x 768 Pix...  \n",
       "10        ₹46,900      31%  Operating System: TizenUltra HD (4K) 3840 x 21...  \n",
       "11        ₹66,900      31%  Operating System: TizenUltra HD (4K) 3840 x 21...  \n",
       "12        ₹47,990      33%  Operating System: WebOSUltra HD (4K) 3840 x 21...  \n",
       "13        ₹24,999      54%  Operating System: FireTv OS 7HD Ready 1366 x 7...  \n",
       "14        ₹54,999      30%  Operating System: Google TVUltra HD (4K) 3840 ...  \n",
       "15        ₹24,999      48%  Operating System: Google TVHD Ready 1366 x 768...  \n",
       "16        ₹27,990      62%  Operating System: Google TVHD Ready 1366 x 768...  \n",
       "17        ₹64,900      32%  Operating System: TizenUltra HD (4K) 3840 x 21...  \n",
       "18        ₹31,999      31%  Operating System: Google TVUltra HD (4K) 3840 ...  \n",
       "19        ₹38,990      64%  Operating System: AndroidFull HD 1920 x 1080 P...  \n",
       "20        ₹13,999      57%  HD Ready 1366 x 768 PixelsLaunch Year: 20231 Y...  \n",
       "21        ₹80,990      28%  Operating System: Google TVUltra HD (4K) 3840 ...  \n",
       "22        ₹29,999      43%  Operating System: Google TVFull HD 1080 x 1920...  \n",
       "23        ₹56,790      41%  Operating System: Google TVUltra HD (4K) 3840 ...  "
      ]
     },
     "execution_count": 26,
     "metadata": {},
     "output_type": "execute_result"
    }
   ],
   "source": [
    "df"
   ]
  },
  {
   "cell_type": "code",
   "execution_count": 1,
   "metadata": {},
   "outputs": [],
   "source": [
    "def get_div_info(div_all):\n",
    "    name_element = div_all.find('div', {'class':'KzDlHZ'})\n",
    "    name_ = name_element.text if name_element else None\n",
    "    name = name_.split('-')[0].strip() if '-' in name_ else name_\n",
    "\n",
    "    rating_element = div_all.find('div', {'class':'XQDdHH'})\n",
    "    rating_ = rating_element.text if rating_element else None\n",
    "    rating = rating_ if rating_ else 'None'\n",
    "\n",
    "    price_element = div_all.find('div', {'class':'Nx9bqj _4b5DiR'})\n",
    "    price_ = price_element.text if price_element else None\n",
    "    price = price_ if price_ else 'None'\n",
    "\n",
    "    original_price_element = div_all.find('div', {'class':'yRaY8j ZYYwLA'})\n",
    "    original_price_ = original_price_element.text if original_price_element else None\n",
    "    original_price = original_price_ if original_price_ else 'None'\n",
    "\n",
    "    discount_element = div_all.find('div', {'class':'UkUFwK'})\n",
    "    discount_ = discount_element.text[:3] if discount_element else None\n",
    "    discount = discount_ if discount_ else 'None'\n",
    "\n",
    "    features_element = div_all.find('ul', {'class':'G4BRas'})\n",
    "    features_ = features_element.text if features_element else None\n",
    "    features = features_ if features_ else 'None'\n",
    "\n",
    "    return [name, rating, price, original_price, discount, features]"
   ]
  },
  {
   "cell_type": "code",
   "execution_count": 2,
   "metadata": {},
   "outputs": [],
   "source": [
    "def scrape_page(driver, url):\n",
    "    driver.get(url)\n",
    "    WebDriverWait(driver, 10).until(EC.visibility_of_element_located((By.CSS_SELECTOR, 'div.tUxRFH')))\n",
    "    soup = BeautifulSoup(driver.page_source, 'html.parser')\n",
    "\n",
    "    div_info_list = []\n",
    "    for div_1 in soup.findAll('div', {'class': 'tUxRFH'}):\n",
    "        div_info_list.append(get_div_info(div_1))\n",
    "    \n",
    "    return div_info_list\n"
   ]
  },
  {
   "cell_type": "code",
   "execution_count": null,
   "metadata": {},
   "outputs": [],
   "source": [
    "if __name__ == \"__main__\":\n",
    "    base_url = 'https://www.flipkart.com/search?q=tv&otracker=search&otracker1=search&marketplace=FLIPKART&as-show=on&as=off&page={}'\n",
    "    all_div_info = []\n",
    "\n",
    "    driver = webdriver.Chrome()\n",
    "\n",
    "    try:\n",
    "        for page_num in range(1, 44):  \n",
    "            url = base_url.format(page_num)\n",
    "            div_info_list = scrape_page(driver, url)\n",
    "            all_div_info.extend(div_info_list)\n",
    "\n",
    "            print(f\"Scraped data from page {page_num}\")\n",
    "\n",
    "    finally:\n",
    "        driver.quit()\n",
    "\n",
    "    # Printing the data\n",
    "    for i, div_info in enumerate(all_div_info, start=1):\n",
    "        print(f\"Entry {i}: {div_info}\")\n",
    "\n",
    "    columns = ['Name', 'Rating', 'Price', 'Original Price', 'Discount', 'Features']\n",
    "    df = pd.DataFrame(all_div_info, columns=columns)"
   ]
  }
 ],
 "metadata": {
  "kernelspec": {
   "display_name": "Python 3",
   "language": "python",
   "name": "python3"
  },
  "language_info": {
   "codemirror_mode": {
    "name": "ipython",
    "version": 3
   },
   "file_extension": ".py",
   "mimetype": "text/x-python",
   "name": "python",
   "nbconvert_exporter": "python",
   "pygments_lexer": "ipython3",
   "version": "3.12.3"
  }
 },
 "nbformat": 4,
 "nbformat_minor": 2
}
